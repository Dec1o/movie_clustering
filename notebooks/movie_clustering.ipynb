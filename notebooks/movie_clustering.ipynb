{
 "cells": [
  {
   "cell_type": "code",
   "execution_count": null,
   "metadata": {},
   "outputs": [
    {
     "ename": "ModuleNotFoundError",
     "evalue": "No module named 'src'",
     "output_type": "error",
     "traceback": [
      "\u001b[1;31m---------------------------------------------------------------------------\u001b[0m",
      "\u001b[1;31mModuleNotFoundError\u001b[0m                       Traceback (most recent call last)",
      "Cell \u001b[1;32mIn[1], line 2\u001b[0m\n\u001b[0;32m      1\u001b[0m \u001b[38;5;28;01mimport\u001b[39;00m \u001b[38;5;21;01mpandas\u001b[39;00m \u001b[38;5;28;01mas\u001b[39;00m \u001b[38;5;21;01mpd\u001b[39;00m\n\u001b[1;32m----> 2\u001b[0m \u001b[38;5;28;01mfrom\u001b[39;00m \u001b[38;5;21;01msrc\u001b[39;00m\u001b[38;5;21;01m.\u001b[39;00m\u001b[38;5;21;01mdata_generation\u001b[39;00m \u001b[38;5;28;01mimport\u001b[39;00m generate_movie_data\n\u001b[0;32m      3\u001b[0m \u001b[38;5;28;01mfrom\u001b[39;00m \u001b[38;5;21;01msrc\u001b[39;00m\u001b[38;5;21;01m.\u001b[39;00m\u001b[38;5;21;01mclustering\u001b[39;00m \u001b[38;5;28;01mimport\u001b[39;00m apply_kmeans, apply_dbscan\n\u001b[0;32m      4\u001b[0m \u001b[38;5;28;01mfrom\u001b[39;00m \u001b[38;5;21;01msrc\u001b[39;00m\u001b[38;5;21;01m.\u001b[39;00m\u001b[38;5;21;01mvisualizations\u001b[39;00m \u001b[38;5;28;01mimport\u001b[39;00m plot_kmeans_clusters, plot_dbscan_clusters\n",
      "\u001b[1;31mModuleNotFoundError\u001b[0m: No module named 'src'"
     ]
    }
   ],
   "source": [
    "import sys\n",
    "import os\n",
    "\n",
    "# Adicionar a pasta raiz do projeto ao caminho\n",
    "sys.path.append(os.path.abspath('C:/Users/DécioFaria/Projetos_Python/movie_clustering'))\n",
    "\n",
    "import pandas as pd\n",
    "from src.data_generation import generate_movie_data\n",
    "from src.clustering import apply_kmeans, apply_dbscan\n",
    "from src.visualizations import plot_kmeans_clusters, plot_dbscan_clusters\n",
    "\n",
    "# Gerar o dataset\n",
    "df = generate_movie_data()\n",
    "\n",
    "# Aplicar K-Means com 3 clusters\n",
    "df_kmeans = apply_kmeans(df.copy(), n_clusters=3)\n",
    "\n",
    "# Aplicar DBSCAN\n",
    "df_dbscan = apply_dbscan(df.copy(), eps=0.5, min_samples=5)\n",
    "\n",
    "# Visualizar os clusters do K-Means\n",
    "plot_kmeans_clusters(df_kmeans)\n",
    "\n",
    "# Visualizar os clusters do DBSCAN\n",
    "plot_dbscan_clusters(df_dbscan)\n"
   ]
  }
 ],
 "metadata": {
  "kernelspec": {
   "display_name": "venv",
   "language": "python",
   "name": "python3"
  },
  "language_info": {
   "codemirror_mode": {
    "name": "ipython",
    "version": 3
   },
   "file_extension": ".py",
   "mimetype": "text/x-python",
   "name": "python",
   "nbconvert_exporter": "python",
   "pygments_lexer": "ipython3",
   "version": "3.12.5"
  }
 },
 "nbformat": 4,
 "nbformat_minor": 2
}
